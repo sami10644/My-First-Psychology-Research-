{
  "nbformat": 4,
  "nbformat_minor": 5,
  "metadata": {
    "kernelspec": {
      "display_name": "Python 3",
      "language": "python",
      "name": "python3"
    },
    "language_info": {
      "codemirror_mode": {
        "name": "ipython",
        "version": 3
      },
      "file_extension": ".py",
      "mimetype": "text/x-python",
      "name": "python",
      "nbconvert_exporter": "python",
      "pygments_lexer": "ipython3",
      "version": "3.8.8"
    },
    "colab": {
      "name": "Psychology ml project 1.ipynb",
      "provenance": [],
      "include_colab_link": true
    }
  },
  "cells": [
    {
      "cell_type": "markdown",
      "metadata": {
        "id": "view-in-github",
        "colab_type": "text"
      },
      "source": [
        "<a href=\"https://colab.research.google.com/github/sami10644/My-First-Psychology-Research-/blob/main/Psychology_ml_project_1.ipynb\" target=\"_parent\"><img src=\"https://colab.research.google.com/assets/colab-badge.svg\" alt=\"Open In Colab\"/></a>"
      ]
    },
    {
      "cell_type": "code",
      "metadata": {
        "id": "505a481a"
      },
      "source": [
        "import pandas\n",
        "import numpy as np\n",
        "from sklearn.model_selection import train_test_split\n",
        "from sklearn.linear_model import LinearRegression\n",
        "from sklearn.metrics import accuracy_score\n",
        "from sklearn.ensemble import ExtraTreesClassifier\n",
        "from sklearn.linear_model import LogisticRegression\n",
        "from sklearn.feature_selection import RFE\n",
        "from sklearn.svm import LinearSVC\n",
        "from sklearn.ensemble import RandomForestClassifier\n",
        "from sklearn.multiclass import OneVsRestClassifier\n",
        "from sklearn.ensemble import BaggingClassifier\n",
        "from sklearn.neighbors import KNeighborsClassifier\n",
        "from sklearn.linear_model import LogisticRegression\n",
        "from sklearn.naive_bayes import GaussianNB\n",
        "from sklearn.ensemble import RandomForestClassifier\n",
        "from sklearn.ensemble import VotingClassifier\n",
        "from sklearn.model_selection import GridSearchCV\n",
        "from sklearn.svm import SVC\n",
        "from sklearn.tree import DecisionTreeClassifier\n",
        "import matplotlib.pyplot as plt\n",
        "from sklearn import model_selection\n",
        "from sklearn.linear_model import LogisticRegression\n",
        "from sklearn.tree import DecisionTreeClassifier\n",
        "from sklearn.neighbors import KNeighborsClassifier\n",
        "from sklearn.discriminant_analysis import LinearDiscriminantAnalysis\n"
      ],
      "id": "505a481a",
      "execution_count": 5,
      "outputs": []
    },
    {
      "cell_type": "code",
      "metadata": {
        "colab": {
          "base_uri": "https://localhost:8080/"
        },
        "id": "9058f86d",
        "outputId": "00da2a0a-821a-43a5-de05-1ca2b691674c"
      },
      "source": [
        "print(\"Reading responses.csv into a dataframe\")\n",
        "import pandas as pd\n",
        "df = pd.read_csv(\"responses.csv\")"
      ],
      "id": "9058f86d",
      "execution_count": 6,
      "outputs": [
        {
          "output_type": "stream",
          "text": [
            "Reading responses.csv into a dataframe\n"
          ],
          "name": "stdout"
        }
      ]
    },
    {
      "cell_type": "code",
      "metadata": {
        "colab": {
          "base_uri": "https://localhost:8080/"
        },
        "id": "5f02bf9c",
        "outputId": "0484b5d3-94fd-4041-8ce8-7e29ffe38359"
      },
      "source": [
        "\n",
        "df.shape"
      ],
      "id": "5f02bf9c",
      "execution_count": 7,
      "outputs": [
        {
          "output_type": "execute_result",
          "data": {
            "text/plain": [
              "(1010, 150)"
            ]
          },
          "metadata": {
            "tags": []
          },
          "execution_count": 7
        }
      ]
    },
    {
      "cell_type": "code",
      "metadata": {
        "colab": {
          "base_uri": "https://localhost:8080/",
          "height": 412
        },
        "id": "82b0d91b",
        "outputId": "e48b3c4d-fcad-40c2-e88e-1505768685d0"
      },
      "source": [
        "print(\"Printing df.head()\")\n",
        "df.head()"
      ],
      "id": "82b0d91b",
      "execution_count": 8,
      "outputs": [
        {
          "output_type": "stream",
          "text": [
            "Printing df.head()\n"
          ],
          "name": "stdout"
        },
        {
          "output_type": "execute_result",
          "data": {
            "text/html": [
              "<div>\n",
              "<style scoped>\n",
              "    .dataframe tbody tr th:only-of-type {\n",
              "        vertical-align: middle;\n",
              "    }\n",
              "\n",
              "    .dataframe tbody tr th {\n",
              "        vertical-align: top;\n",
              "    }\n",
              "\n",
              "    .dataframe thead th {\n",
              "        text-align: right;\n",
              "    }\n",
              "</style>\n",
              "<table border=\"1\" class=\"dataframe\">\n",
              "  <thead>\n",
              "    <tr style=\"text-align: right;\">\n",
              "      <th></th>\n",
              "      <th>Music</th>\n",
              "      <th>Slow songs or fast songs</th>\n",
              "      <th>Dance</th>\n",
              "      <th>Folk</th>\n",
              "      <th>Country</th>\n",
              "      <th>Classical music</th>\n",
              "      <th>Musical</th>\n",
              "      <th>Pop</th>\n",
              "      <th>Rock</th>\n",
              "      <th>Metal or Hardrock</th>\n",
              "      <th>Punk</th>\n",
              "      <th>Hiphop, Rap</th>\n",
              "      <th>Reggae, Ska</th>\n",
              "      <th>Swing, Jazz</th>\n",
              "      <th>Rock n roll</th>\n",
              "      <th>Alternative</th>\n",
              "      <th>Latino</th>\n",
              "      <th>Techno, Trance</th>\n",
              "      <th>Opera</th>\n",
              "      <th>Movies</th>\n",
              "      <th>Horror</th>\n",
              "      <th>Thriller</th>\n",
              "      <th>Comedy</th>\n",
              "      <th>Romantic</th>\n",
              "      <th>Sci-fi</th>\n",
              "      <th>War</th>\n",
              "      <th>Fantasy/Fairy tales</th>\n",
              "      <th>Animated</th>\n",
              "      <th>Documentary</th>\n",
              "      <th>Western</th>\n",
              "      <th>Action</th>\n",
              "      <th>History</th>\n",
              "      <th>Psychology</th>\n",
              "      <th>Politics</th>\n",
              "      <th>Mathematics</th>\n",
              "      <th>Physics</th>\n",
              "      <th>Internet</th>\n",
              "      <th>PC</th>\n",
              "      <th>Economy Management</th>\n",
              "      <th>Biology</th>\n",
              "      <th>...</th>\n",
              "      <th>New environment</th>\n",
              "      <th>Mood swings</th>\n",
              "      <th>Appearence and gestures</th>\n",
              "      <th>Socializing</th>\n",
              "      <th>Achievements</th>\n",
              "      <th>Responding to a serious letter</th>\n",
              "      <th>Children</th>\n",
              "      <th>Assertiveness</th>\n",
              "      <th>Getting angry</th>\n",
              "      <th>Knowing the right people</th>\n",
              "      <th>Public speaking</th>\n",
              "      <th>Unpopularity</th>\n",
              "      <th>Life struggles</th>\n",
              "      <th>Happiness in life</th>\n",
              "      <th>Energy levels</th>\n",
              "      <th>Small - big dogs</th>\n",
              "      <th>Personality</th>\n",
              "      <th>Finding lost valuables</th>\n",
              "      <th>Getting up</th>\n",
              "      <th>Interests or hobbies</th>\n",
              "      <th>Parents' advice</th>\n",
              "      <th>Questionnaires or polls</th>\n",
              "      <th>Internet usage</th>\n",
              "      <th>Finances</th>\n",
              "      <th>Shopping centres</th>\n",
              "      <th>Branded clothing</th>\n",
              "      <th>Entertainment spending</th>\n",
              "      <th>Spending on looks</th>\n",
              "      <th>Spending on gadgets</th>\n",
              "      <th>Spending on healthy eating</th>\n",
              "      <th>Age</th>\n",
              "      <th>Height</th>\n",
              "      <th>Weight</th>\n",
              "      <th>Number of siblings</th>\n",
              "      <th>Gender</th>\n",
              "      <th>Left - right handed</th>\n",
              "      <th>Education</th>\n",
              "      <th>Only child</th>\n",
              "      <th>Village - town</th>\n",
              "      <th>House - block of flats</th>\n",
              "    </tr>\n",
              "  </thead>\n",
              "  <tbody>\n",
              "    <tr>\n",
              "      <th>0</th>\n",
              "      <td>5.0</td>\n",
              "      <td>3.0</td>\n",
              "      <td>2.0</td>\n",
              "      <td>1.0</td>\n",
              "      <td>2.0</td>\n",
              "      <td>2.0</td>\n",
              "      <td>1.0</td>\n",
              "      <td>5.0</td>\n",
              "      <td>5.0</td>\n",
              "      <td>1.0</td>\n",
              "      <td>1.0</td>\n",
              "      <td>1.0</td>\n",
              "      <td>1.0</td>\n",
              "      <td>1.0</td>\n",
              "      <td>3.0</td>\n",
              "      <td>1.0</td>\n",
              "      <td>1.0</td>\n",
              "      <td>1.0</td>\n",
              "      <td>1.0</td>\n",
              "      <td>5.0</td>\n",
              "      <td>4.0</td>\n",
              "      <td>2.0</td>\n",
              "      <td>5.0</td>\n",
              "      <td>4.0</td>\n",
              "      <td>4.0</td>\n",
              "      <td>1.0</td>\n",
              "      <td>5.0</td>\n",
              "      <td>5.0</td>\n",
              "      <td>3.0</td>\n",
              "      <td>1.0</td>\n",
              "      <td>2.0</td>\n",
              "      <td>1.0</td>\n",
              "      <td>5.0</td>\n",
              "      <td>1.0</td>\n",
              "      <td>3.0</td>\n",
              "      <td>3.0</td>\n",
              "      <td>5.0</td>\n",
              "      <td>3.0</td>\n",
              "      <td>5.0</td>\n",
              "      <td>3.0</td>\n",
              "      <td>...</td>\n",
              "      <td>4.0</td>\n",
              "      <td>3.0</td>\n",
              "      <td>4.0</td>\n",
              "      <td>3.0</td>\n",
              "      <td>4.0</td>\n",
              "      <td>3.0</td>\n",
              "      <td>5.0</td>\n",
              "      <td>1.0</td>\n",
              "      <td>1.0</td>\n",
              "      <td>3.0</td>\n",
              "      <td>5.0</td>\n",
              "      <td>5.0</td>\n",
              "      <td>1.0</td>\n",
              "      <td>4.0</td>\n",
              "      <td>5.0</td>\n",
              "      <td>1.0</td>\n",
              "      <td>4.0</td>\n",
              "      <td>3.0</td>\n",
              "      <td>2.0</td>\n",
              "      <td>3.0</td>\n",
              "      <td>4.0</td>\n",
              "      <td>3.0</td>\n",
              "      <td>few hours a day</td>\n",
              "      <td>3.0</td>\n",
              "      <td>4.0</td>\n",
              "      <td>5.0</td>\n",
              "      <td>3.0</td>\n",
              "      <td>3.0</td>\n",
              "      <td>1</td>\n",
              "      <td>3.0</td>\n",
              "      <td>20.0</td>\n",
              "      <td>163.0</td>\n",
              "      <td>48.0</td>\n",
              "      <td>1.0</td>\n",
              "      <td>female</td>\n",
              "      <td>right handed</td>\n",
              "      <td>college/bachelor degree</td>\n",
              "      <td>no</td>\n",
              "      <td>village</td>\n",
              "      <td>block of flats</td>\n",
              "    </tr>\n",
              "    <tr>\n",
              "      <th>1</th>\n",
              "      <td>4.0</td>\n",
              "      <td>4.0</td>\n",
              "      <td>2.0</td>\n",
              "      <td>1.0</td>\n",
              "      <td>1.0</td>\n",
              "      <td>1.0</td>\n",
              "      <td>2.0</td>\n",
              "      <td>3.0</td>\n",
              "      <td>5.0</td>\n",
              "      <td>4.0</td>\n",
              "      <td>4.0</td>\n",
              "      <td>1.0</td>\n",
              "      <td>3.0</td>\n",
              "      <td>1.0</td>\n",
              "      <td>4.0</td>\n",
              "      <td>4.0</td>\n",
              "      <td>2.0</td>\n",
              "      <td>1.0</td>\n",
              "      <td>1.0</td>\n",
              "      <td>5.0</td>\n",
              "      <td>2.0</td>\n",
              "      <td>2.0</td>\n",
              "      <td>4.0</td>\n",
              "      <td>3.0</td>\n",
              "      <td>4.0</td>\n",
              "      <td>1.0</td>\n",
              "      <td>3.0</td>\n",
              "      <td>5.0</td>\n",
              "      <td>4.0</td>\n",
              "      <td>1.0</td>\n",
              "      <td>4.0</td>\n",
              "      <td>1.0</td>\n",
              "      <td>3.0</td>\n",
              "      <td>4.0</td>\n",
              "      <td>5.0</td>\n",
              "      <td>2.0</td>\n",
              "      <td>4.0</td>\n",
              "      <td>4.0</td>\n",
              "      <td>5.0</td>\n",
              "      <td>1.0</td>\n",
              "      <td>...</td>\n",
              "      <td>4.0</td>\n",
              "      <td>4.0</td>\n",
              "      <td>4.0</td>\n",
              "      <td>4.0</td>\n",
              "      <td>2.0</td>\n",
              "      <td>4.0</td>\n",
              "      <td>2.0</td>\n",
              "      <td>2.0</td>\n",
              "      <td>5.0</td>\n",
              "      <td>4.0</td>\n",
              "      <td>4.0</td>\n",
              "      <td>4.0</td>\n",
              "      <td>1.0</td>\n",
              "      <td>4.0</td>\n",
              "      <td>3.0</td>\n",
              "      <td>5.0</td>\n",
              "      <td>3.0</td>\n",
              "      <td>4.0</td>\n",
              "      <td>5.0</td>\n",
              "      <td>3.0</td>\n",
              "      <td>2.0</td>\n",
              "      <td>3.0</td>\n",
              "      <td>few hours a day</td>\n",
              "      <td>3.0</td>\n",
              "      <td>4.0</td>\n",
              "      <td>1.0</td>\n",
              "      <td>4.0</td>\n",
              "      <td>2.0</td>\n",
              "      <td>5</td>\n",
              "      <td>2.0</td>\n",
              "      <td>19.0</td>\n",
              "      <td>163.0</td>\n",
              "      <td>58.0</td>\n",
              "      <td>2.0</td>\n",
              "      <td>female</td>\n",
              "      <td>right handed</td>\n",
              "      <td>college/bachelor degree</td>\n",
              "      <td>no</td>\n",
              "      <td>city</td>\n",
              "      <td>block of flats</td>\n",
              "    </tr>\n",
              "    <tr>\n",
              "      <th>2</th>\n",
              "      <td>5.0</td>\n",
              "      <td>5.0</td>\n",
              "      <td>2.0</td>\n",
              "      <td>2.0</td>\n",
              "      <td>3.0</td>\n",
              "      <td>4.0</td>\n",
              "      <td>5.0</td>\n",
              "      <td>3.0</td>\n",
              "      <td>5.0</td>\n",
              "      <td>3.0</td>\n",
              "      <td>4.0</td>\n",
              "      <td>1.0</td>\n",
              "      <td>4.0</td>\n",
              "      <td>3.0</td>\n",
              "      <td>5.0</td>\n",
              "      <td>5.0</td>\n",
              "      <td>5.0</td>\n",
              "      <td>1.0</td>\n",
              "      <td>3.0</td>\n",
              "      <td>5.0</td>\n",
              "      <td>3.0</td>\n",
              "      <td>4.0</td>\n",
              "      <td>4.0</td>\n",
              "      <td>2.0</td>\n",
              "      <td>4.0</td>\n",
              "      <td>2.0</td>\n",
              "      <td>5.0</td>\n",
              "      <td>5.0</td>\n",
              "      <td>2.0</td>\n",
              "      <td>2.0</td>\n",
              "      <td>1.0</td>\n",
              "      <td>1.0</td>\n",
              "      <td>2.0</td>\n",
              "      <td>1.0</td>\n",
              "      <td>5.0</td>\n",
              "      <td>2.0</td>\n",
              "      <td>4.0</td>\n",
              "      <td>2.0</td>\n",
              "      <td>4.0</td>\n",
              "      <td>1.0</td>\n",
              "      <td>...</td>\n",
              "      <td>3.0</td>\n",
              "      <td>4.0</td>\n",
              "      <td>3.0</td>\n",
              "      <td>5.0</td>\n",
              "      <td>3.0</td>\n",
              "      <td>4.0</td>\n",
              "      <td>4.0</td>\n",
              "      <td>3.0</td>\n",
              "      <td>4.0</td>\n",
              "      <td>3.0</td>\n",
              "      <td>2.0</td>\n",
              "      <td>4.0</td>\n",
              "      <td>4.0</td>\n",
              "      <td>4.0</td>\n",
              "      <td>4.0</td>\n",
              "      <td>3.0</td>\n",
              "      <td>3.0</td>\n",
              "      <td>3.0</td>\n",
              "      <td>4.0</td>\n",
              "      <td>5.0</td>\n",
              "      <td>3.0</td>\n",
              "      <td>1.0</td>\n",
              "      <td>few hours a day</td>\n",
              "      <td>2.0</td>\n",
              "      <td>4.0</td>\n",
              "      <td>1.0</td>\n",
              "      <td>4.0</td>\n",
              "      <td>3.0</td>\n",
              "      <td>4</td>\n",
              "      <td>2.0</td>\n",
              "      <td>20.0</td>\n",
              "      <td>176.0</td>\n",
              "      <td>67.0</td>\n",
              "      <td>2.0</td>\n",
              "      <td>female</td>\n",
              "      <td>right handed</td>\n",
              "      <td>secondary school</td>\n",
              "      <td>no</td>\n",
              "      <td>city</td>\n",
              "      <td>block of flats</td>\n",
              "    </tr>\n",
              "    <tr>\n",
              "      <th>3</th>\n",
              "      <td>5.0</td>\n",
              "      <td>3.0</td>\n",
              "      <td>2.0</td>\n",
              "      <td>1.0</td>\n",
              "      <td>1.0</td>\n",
              "      <td>1.0</td>\n",
              "      <td>1.0</td>\n",
              "      <td>2.0</td>\n",
              "      <td>2.0</td>\n",
              "      <td>1.0</td>\n",
              "      <td>4.0</td>\n",
              "      <td>2.0</td>\n",
              "      <td>2.0</td>\n",
              "      <td>1.0</td>\n",
              "      <td>2.0</td>\n",
              "      <td>5.0</td>\n",
              "      <td>1.0</td>\n",
              "      <td>2.0</td>\n",
              "      <td>1.0</td>\n",
              "      <td>5.0</td>\n",
              "      <td>4.0</td>\n",
              "      <td>4.0</td>\n",
              "      <td>3.0</td>\n",
              "      <td>3.0</td>\n",
              "      <td>4.0</td>\n",
              "      <td>3.0</td>\n",
              "      <td>1.0</td>\n",
              "      <td>2.0</td>\n",
              "      <td>5.0</td>\n",
              "      <td>1.0</td>\n",
              "      <td>2.0</td>\n",
              "      <td>4.0</td>\n",
              "      <td>4.0</td>\n",
              "      <td>5.0</td>\n",
              "      <td>4.0</td>\n",
              "      <td>1.0</td>\n",
              "      <td>3.0</td>\n",
              "      <td>1.0</td>\n",
              "      <td>2.0</td>\n",
              "      <td>3.0</td>\n",
              "      <td>...</td>\n",
              "      <td>1.0</td>\n",
              "      <td>5.0</td>\n",
              "      <td>3.0</td>\n",
              "      <td>1.0</td>\n",
              "      <td>3.0</td>\n",
              "      <td>3.0</td>\n",
              "      <td>2.0</td>\n",
              "      <td>5.0</td>\n",
              "      <td>5.0</td>\n",
              "      <td>4.0</td>\n",
              "      <td>5.0</td>\n",
              "      <td>3.0</td>\n",
              "      <td>3.0</td>\n",
              "      <td>2.0</td>\n",
              "      <td>2.0</td>\n",
              "      <td>1.0</td>\n",
              "      <td>2.0</td>\n",
              "      <td>1.0</td>\n",
              "      <td>1.0</td>\n",
              "      <td>NaN</td>\n",
              "      <td>2.0</td>\n",
              "      <td>4.0</td>\n",
              "      <td>most of the day</td>\n",
              "      <td>2.0</td>\n",
              "      <td>4.0</td>\n",
              "      <td>3.0</td>\n",
              "      <td>3.0</td>\n",
              "      <td>4.0</td>\n",
              "      <td>4</td>\n",
              "      <td>1.0</td>\n",
              "      <td>22.0</td>\n",
              "      <td>172.0</td>\n",
              "      <td>59.0</td>\n",
              "      <td>1.0</td>\n",
              "      <td>female</td>\n",
              "      <td>right handed</td>\n",
              "      <td>college/bachelor degree</td>\n",
              "      <td>yes</td>\n",
              "      <td>city</td>\n",
              "      <td>house/bungalow</td>\n",
              "    </tr>\n",
              "    <tr>\n",
              "      <th>4</th>\n",
              "      <td>5.0</td>\n",
              "      <td>3.0</td>\n",
              "      <td>4.0</td>\n",
              "      <td>3.0</td>\n",
              "      <td>2.0</td>\n",
              "      <td>4.0</td>\n",
              "      <td>3.0</td>\n",
              "      <td>5.0</td>\n",
              "      <td>3.0</td>\n",
              "      <td>1.0</td>\n",
              "      <td>2.0</td>\n",
              "      <td>5.0</td>\n",
              "      <td>3.0</td>\n",
              "      <td>2.0</td>\n",
              "      <td>1.0</td>\n",
              "      <td>2.0</td>\n",
              "      <td>4.0</td>\n",
              "      <td>2.0</td>\n",
              "      <td>2.0</td>\n",
              "      <td>5.0</td>\n",
              "      <td>4.0</td>\n",
              "      <td>4.0</td>\n",
              "      <td>5.0</td>\n",
              "      <td>2.0</td>\n",
              "      <td>3.0</td>\n",
              "      <td>3.0</td>\n",
              "      <td>4.0</td>\n",
              "      <td>4.0</td>\n",
              "      <td>3.0</td>\n",
              "      <td>1.0</td>\n",
              "      <td>4.0</td>\n",
              "      <td>3.0</td>\n",
              "      <td>2.0</td>\n",
              "      <td>3.0</td>\n",
              "      <td>2.0</td>\n",
              "      <td>2.0</td>\n",
              "      <td>2.0</td>\n",
              "      <td>2.0</td>\n",
              "      <td>2.0</td>\n",
              "      <td>3.0</td>\n",
              "      <td>...</td>\n",
              "      <td>4.0</td>\n",
              "      <td>2.0</td>\n",
              "      <td>3.0</td>\n",
              "      <td>3.0</td>\n",
              "      <td>3.0</td>\n",
              "      <td>3.0</td>\n",
              "      <td>5.0</td>\n",
              "      <td>4.0</td>\n",
              "      <td>2.0</td>\n",
              "      <td>3.0</td>\n",
              "      <td>5.0</td>\n",
              "      <td>5.0</td>\n",
              "      <td>2.0</td>\n",
              "      <td>3.0</td>\n",
              "      <td>5.0</td>\n",
              "      <td>3.0</td>\n",
              "      <td>3.0</td>\n",
              "      <td>2.0</td>\n",
              "      <td>4.0</td>\n",
              "      <td>3.0</td>\n",
              "      <td>3.0</td>\n",
              "      <td>3.0</td>\n",
              "      <td>few hours a day</td>\n",
              "      <td>4.0</td>\n",
              "      <td>3.0</td>\n",
              "      <td>4.0</td>\n",
              "      <td>3.0</td>\n",
              "      <td>3.0</td>\n",
              "      <td>2</td>\n",
              "      <td>4.0</td>\n",
              "      <td>20.0</td>\n",
              "      <td>170.0</td>\n",
              "      <td>59.0</td>\n",
              "      <td>1.0</td>\n",
              "      <td>female</td>\n",
              "      <td>right handed</td>\n",
              "      <td>secondary school</td>\n",
              "      <td>no</td>\n",
              "      <td>village</td>\n",
              "      <td>house/bungalow</td>\n",
              "    </tr>\n",
              "  </tbody>\n",
              "</table>\n",
              "<p>5 rows × 150 columns</p>\n",
              "</div>"
            ],
            "text/plain": [
              "   Music  Slow songs or fast songs  ...  Village - town  House - block of flats\n",
              "0    5.0                       3.0  ...         village          block of flats\n",
              "1    4.0                       4.0  ...            city          block of flats\n",
              "2    5.0                       5.0  ...            city          block of flats\n",
              "3    5.0                       3.0  ...            city          house/bungalow\n",
              "4    5.0                       3.0  ...         village          house/bungalow\n",
              "\n",
              "[5 rows x 150 columns]"
            ]
          },
          "metadata": {
            "tags": []
          },
          "execution_count": 8
        }
      ]
    },
    {
      "cell_type": "markdown",
      "metadata": {
        "id": "e511da0d"
      },
      "source": [
        "EDA"
      ],
      "id": "e511da0d"
    },
    {
      "cell_type": "code",
      "metadata": {
        "colab": {
          "base_uri": "https://localhost:8080/",
          "height": 267
        },
        "id": "44ac9a72",
        "outputId": "fe538dde-8906-466b-bbcf-2f8f3225d159"
      },
      "source": [
        "import matplotlib.pyplot as plt\n",
        "c_empathetic = 0\n",
        "s_empathetic = 0\n",
        "p_empathetic = 0\n",
        "m_empathetic = 0\n",
        "d_empathetic = 0\n",
        "cu_empathetic = 0\n",
        "for i,value in enumerate(df['Education'].values):\n",
        "    if(value == 'college/bachelor degree' and df['Empathy'].values[i]>=4):\n",
        "        c_empathetic += 1\n",
        "    elif(value == 'secondary school' and df['Empathy'].values[i]>=4):\n",
        "        s_empathetic += 1\n",
        "    elif(value == 'primary school' and df['Empathy'].values[i]>=4):\n",
        "        p_empathetic += 1\n",
        "    elif(value == 'masters degree' and df['Empathy'].values[i]>=4):\n",
        "        m_empathetic += 1\n",
        "    elif(value == 'doctorate degree' and df['Empathy'].values[i]>=4):\n",
        "        d_empathetic += 1\n",
        "    elif(value == 'currently a primary school pupil' and df['Empathy'].values[i]>=4):\n",
        "        cu_empathetic += 1\n",
        "\n",
        "labels = ['college/bachelor degree','secondary school','primary school','masters degree','doctorate degree','currently a primary school pupil']\n",
        "sizes = [c_empathetic, s_empathetic,p_empathetic,m_empathetic,d_empathetic,cu_empathetic]\n",
        "\n",
        "fig1, ax1 = plt.subplots()\n",
        "ax1.pie(sizes,  labels=labels, autopct='%1.1f%%',shadow=True, startangle=90)\n",
        "ax1.axis('equal')  \n",
        "plt.title('Education vs Empathy', bbox={'facecolor':'0.8', 'pad':5})\n",
        "plt.show()"
      ],
      "id": "44ac9a72",
      "execution_count": 9,
      "outputs": [
        {
          "output_type": "display_data",
          "data": {
            "image/png": "[encoded data removed]",
            "text/plain": [
              "<Figure size 432x288 with 1 Axes>"
            ]
          },
          "metadata": {
            "tags": []
          }
        }
      ]
    },
    {
      "cell_type": "code",
      "metadata": {
        "colab": {
          "base_uri": "https://localhost:8080/",
          "height": 264
        },
        "id": "6ce4a34a",
        "outputId": "7ce2b822-caa3-44b9-90f8-ffceadbe8611"
      },
      "source": [
        "import matplotlib.pyplot as plt\n",
        "n_empathetic = 0\n",
        "tr_empathetic = 0\n",
        "fm_empathetic = 0\n",
        "cr_empathetic = 0\n",
        "\n",
        "for i,value in enumerate(df['Smoking'].values):\n",
        "    if(value == 'never smoked' and df['Empathy'].values[i]>=4):\n",
        "        n_empathetic += 1\n",
        "    elif(value == 'tried smoking' and df['Empathy'].values[i]>=4):\n",
        "        tr_empathetic += 1\n",
        "    elif(value == 'former smoker' and df['Empathy'].values[i]>=4):\n",
        "        fm_empathetic += 1\n",
        "    elif(value == 'current smoker' and df['Empathy'].values[i]>=4):\n",
        "        cr_empathetic += 1\n",
        "    \n",
        "\n",
        "labels = ['never smoked','tried smoking','former smoker','current smoker']\n",
        "sizes = [n_empathetic, tr_empathetic,fm_empathetic,cr_empathetic]\n",
        "\n",
        "fig1, ax1 = plt.subplots()\n",
        "ax1.pie(sizes,  labels=labels, autopct='%1.1f%%',shadow=True, startangle=90)\n",
        "ax1.axis('equal')  \n",
        "plt.title('Smoking vs Empathy', bbox={'facecolor':'0.8', 'pad':5})\n",
        "plt.show()"
      ],
      "id": "6ce4a34a",
      "execution_count": 10,
      "outputs": [
        {
          "output_type": "display_data",
          "data": {
            "image/png": "[encoded data removed]",
            "text/plain": [
              "<Figure size 432x288 with 1 Axes>"
            ]
          },
          "metadata": {
            "tags": []
          }
        }
      ]
    },
    {
      "cell_type": "code",
      "metadata": {
        "colab": {
          "base_uri": "https://localhost:8080/"
        },
        "id": "a76b317f",
        "outputId": "f60ef60b-0936-4d9b-e15c-850946dc0a86"
      },
      "source": [
        "print(\"Finding the unique values for the catogorical attributes\")\n",
        "\n",
        "df['Alcohol'].unique()\n",
        "\n",
        "\n"
      ],
      "id": "a76b317f",
      "execution_count": 11,
      "outputs": [
        {
          "output_type": "stream",
          "text": [
            "Finding the unique values for the catogorical attributes\n"
          ],
          "name": "stdout"
        },
        {
          "output_type": "execute_result",
          "data": {
            "text/plain": [
              "array(['drink a lot', 'social drinker', 'never', nan], dtype=object)"
            ]
          },
          "metadata": {
            "tags": []
          },
          "execution_count": 11
        }
      ]
    },
    {
      "cell_type": "code",
      "metadata": {
        "colab": {
          "base_uri": "https://localhost:8080/"
        },
        "id": "15826957",
        "outputId": "840258ca-5a3e-47c1-a9b2-add427f47d76"
      },
      "source": [
        "df['Internet usage'].unique()"
      ],
      "id": "15826957",
      "execution_count": 12,
      "outputs": [
        {
          "output_type": "execute_result",
          "data": {
            "text/plain": [
              "array(['few hours a day', 'most of the day', 'less than an hour a day',\n",
              "       'no time at all'], dtype=object)"
            ]
          },
          "metadata": {
            "tags": []
          },
          "execution_count": 12
        }
      ]
    },
    {
      "cell_type": "code",
      "metadata": {
        "colab": {
          "base_uri": "https://localhost:8080/"
        },
        "id": "0379ce13",
        "outputId": "78f13d16-59ed-4053-d16a-c9803022d666"
      },
      "source": [
        "df['Punctuality'].unique()"
      ],
      "id": "0379ce13",
      "execution_count": 13,
      "outputs": [
        {
          "output_type": "execute_result",
          "data": {
            "text/plain": [
              "array(['i am always on time', 'i am often early',\n",
              "       'i am often running late', nan], dtype=object)"
            ]
          },
          "metadata": {
            "tags": []
          },
          "execution_count": 13
        }
      ]
    },
    {
      "cell_type": "code",
      "metadata": {
        "colab": {
          "base_uri": "https://localhost:8080/"
        },
        "id": "b2cbfd41",
        "outputId": "ac207f24-3c01-4972-f43b-06de481e037e"
      },
      "source": [
        "df['Smoking'].unique()"
      ],
      "id": "b2cbfd41",
      "execution_count": 14,
      "outputs": [
        {
          "output_type": "execute_result",
          "data": {
            "text/plain": [
              "array(['never smoked', 'tried smoking', 'former smoker', 'current smoker',\n",
              "       nan], dtype=object)"
            ]
          },
          "metadata": {
            "tags": []
          },
          "execution_count": 14
        }
      ]
    },
    {
      "cell_type": "code",
      "metadata": {
        "colab": {
          "base_uri": "https://localhost:8080/"
        },
        "id": "40b0fceb",
        "outputId": "6d968cd3-5274-4fa3-b72c-72bd1c8f96e5"
      },
      "source": [
        "df['Lying'].unique()"
      ],
      "id": "40b0fceb",
      "execution_count": 15,
      "outputs": [
        {
          "output_type": "execute_result",
          "data": {
            "text/plain": [
              "array(['never', 'sometimes', 'only to avoid hurting someone',\n",
              "       'everytime it suits me', nan], dtype=object)"
            ]
          },
          "metadata": {
            "tags": []
          },
          "execution_count": 15
        }
      ]
    },
    {
      "cell_type": "code",
      "metadata": {
        "colab": {
          "base_uri": "https://localhost:8080/"
        },
        "id": "c5fcd47d",
        "outputId": "fa4203e1-8e24-43d6-de8a-30cc76826d3e"
      },
      "source": [
        "df['Only child'].unique()"
      ],
      "id": "c5fcd47d",
      "execution_count": 16,
      "outputs": [
        {
          "output_type": "execute_result",
          "data": {
            "text/plain": [
              "array(['no', 'yes', nan], dtype=object)"
            ]
          },
          "metadata": {
            "tags": []
          },
          "execution_count": 16
        }
      ]
    },
    {
      "cell_type": "code",
      "metadata": {
        "colab": {
          "base_uri": "https://localhost:8080/"
        },
        "id": "7f4b0e24",
        "outputId": "de674844-7aa8-4c06-d499-3fd554f39ecd"
      },
      "source": [
        "df['Village - town'].unique()"
      ],
      "id": "7f4b0e24",
      "execution_count": 17,
      "outputs": [
        {
          "output_type": "execute_result",
          "data": {
            "text/plain": [
              "array(['village', 'city', nan], dtype=object)"
            ]
          },
          "metadata": {
            "tags": []
          },
          "execution_count": 17
        }
      ]
    },
    {
      "cell_type": "code",
      "metadata": {
        "colab": {
          "base_uri": "https://localhost:8080/"
        },
        "id": "a500e2f8",
        "outputId": "6f1e31ef-043f-4853-c884-a1e722b2c28f"
      },
      "source": [
        "df['House - block of flats'].unique()"
      ],
      "id": "a500e2f8",
      "execution_count": 18,
      "outputs": [
        {
          "output_type": "execute_result",
          "data": {
            "text/plain": [
              "array(['block of flats', 'house/bungalow', nan], dtype=object)"
            ]
          },
          "metadata": {
            "tags": []
          },
          "execution_count": 18
        }
      ]
    },
    {
      "cell_type": "code",
      "metadata": {
        "colab": {
          "base_uri": "https://localhost:8080/"
        },
        "id": "63caa582",
        "outputId": "ea4a3c23-12f3-4aea-f64f-e7a9c201119c"
      },
      "source": [
        "print(\"Converting catogorical values to integers between (1-5)\")\n",
        "for i in df[\"Smoking\"]:\n",
        "    if i == \"never smoked\":\n",
        "        df.replace(i, 1.0, inplace=True)\n",
        "    elif i == \"tried smoking\":\n",
        "        df.replace(i, 2.0, inplace=True)\n",
        "    elif i == \"former smoker\":\n",
        "        df.replace(i, 3.0, inplace=True)\n",
        "    elif i == \"current smoker\":\n",
        "        df.replace(i, 4.0, inplace=True)"
      ],
      "id": "63caa582",
      "execution_count": 19,
      "outputs": [
        {
          "output_type": "stream",
          "text": [
            "Converting catogorical values to integers between (1-5)\n"
          ],
          "name": "stdout"
        }
      ]
    },
    {
      "cell_type": "code",
      "metadata": {
        "id": "e4da66cd"
      },
      "source": [
        "for i in df[\"Alcohol\"]:\n",
        "    if i == \"never\":\n",
        "        df.replace(i, 1.0, inplace=True)\n",
        "    elif i == \"social drinker\":\n",
        "        df.replace(i, 2.0, inplace=True)\n",
        "    elif i == \"drink a lot\":\n",
        "        df.replace(i, 3.0, inplace=True)"
      ],
      "id": "e4da66cd",
      "execution_count": 20,
      "outputs": []
    },
    {
      "cell_type": "code",
      "metadata": {
        "id": "564b7843"
      },
      "source": [
        "for i in df[\"Punctuality\"]:\n",
        "    if i == \"i am always on time\":\n",
        "        df.replace(i, 1.0, inplace=True)\n",
        "    elif i == \"i am often early\":\n",
        "        df.replace(i, 2.0, inplace=True)\n",
        "    elif i == \"i am often running late\":\n",
        "        df.replace(i, 3.0, inplace=True)"
      ],
      "id": "564b7843",
      "execution_count": 21,
      "outputs": []
    },
    {
      "cell_type": "code",
      "metadata": {
        "id": "06483be4"
      },
      "source": [
        "for i in df[\"Lying\"]:\n",
        "    if i == \"never\":\n",
        "        df.replace(i, 1.0, inplace=True)\n",
        "    elif i == \"sometimes\":\n",
        "        df.replace(i, 2.0, inplace=True)\n",
        "    elif i == \"only to avoid hurting someone\":\n",
        "        df.replace(i, 3.0, inplace=True)\n",
        "    elif i == \"everytime it suits me\":\n",
        "        df.replace(i, 4.0, inplace=True)"
      ],
      "id": "06483be4",
      "execution_count": 22,
      "outputs": []
    },
    {
      "cell_type": "code",
      "metadata": {
        "id": "a1e52484"
      },
      "source": [
        "for i in df[\"Internet usage\"]:\n",
        "    if i == \"few hours a day\":\n",
        "        df.replace(i, 1.0, inplace=True)\n",
        "    elif i == \"most of the day\":\n",
        "        df.replace(i, 2.0, inplace=True)\n",
        "    elif i == \"less than an hour a day\":\n",
        "        df.replace(i, 3.0, inplace=True)\n",
        "    elif i == \"no time at all\":\n",
        "        df.replace(i, 4.0, inplace=True)"
      ],
      "id": "a1e52484",
      "execution_count": 23,
      "outputs": []
    },
    {
      "cell_type": "code",
      "metadata": {
        "id": "290778fb"
      },
      "source": [
        "for i in df[\"Gender\"]:\n",
        "    if i == \"female\":\n",
        "        df.replace(i, 1.0, inplace=True)\n",
        "    elif i == \"male\":\n",
        "        df.replace(i, 2.0, inplace=True)"
      ],
      "id": "290778fb",
      "execution_count": 24,
      "outputs": []
    },
    {
      "cell_type": "code",
      "metadata": {
        "id": "1964e924"
      },
      "source": [
        "for i in df[\"Left - right handed\"]:\n",
        "    if i == \"right handed\":\n",
        "        df.replace(i, 1.0, inplace=True)\n",
        "    elif i == \"left handed\":\n",
        "        df.replace(i, 2.0, inplace=True)"
      ],
      "id": "1964e924",
      "execution_count": 25,
      "outputs": []
    },
    {
      "cell_type": "code",
      "metadata": {
        "id": "c057032c"
      },
      "source": [
        "for i in df[\"Education\"]:\n",
        "    if i == \"college/bachelor degree\":\n",
        "        df.replace(i, 1.0, inplace=True)\n",
        "    elif i == \"secondary school\":\n",
        "        df.replace(i, 2.0, inplace=True)\n",
        "    elif i == \"primary school\":\n",
        "        df.replace(i, 3.0, inplace=True)\n",
        "    elif i == \"masters degree\":\n",
        "        df.replace(i, 4.0, inplace=True)\n",
        "    elif i == \"doctorate degree\":\n",
        "        df.replace(i, 5.0, inplace=True)\n",
        "    elif i == \"currently a primary school pupil\":\n",
        "        df.replace(i, 6.0, inplace=True)"
      ],
      "id": "c057032c",
      "execution_count": 26,
      "outputs": []
    },
    {
      "cell_type": "code",
      "metadata": {
        "id": "1a64b863"
      },
      "source": [
        "for i in df[\"Only child\"]:\n",
        "    if i == \"no\":\n",
        "        df.replace(i, 1.0, inplace=True)\n",
        "    elif i == \"yes\":\n",
        "        df.replace(i, 2.0, inplace=True)\n",
        "        "
      ],
      "id": "1a64b863",
      "execution_count": 27,
      "outputs": []
    },
    {
      "cell_type": "code",
      "metadata": {
        "id": "1f718de3"
      },
      "source": [
        "for i in df[\"House - block of flats\"]:\n",
        "    if i == \"block of flats\":\n",
        "        df.replace(i, 1.0, inplace=True)\n",
        "    elif i == \"house/bungalow\":\n",
        "        df.replace(i, 2.0, inplace=True)"
      ],
      "id": "1f718de3",
      "execution_count": 28,
      "outputs": []
    },
    {
      "cell_type": "code",
      "metadata": {
        "id": "0169d043"
      },
      "source": [
        "for i in df[\"Village - town\"]:\n",
        "    if i ==\"village\":\n",
        "        df.replace(i,1.0,inplace=True)\n",
        "    elif i ==\"city\":\n",
        "        df.replace(i,2.0,inplace = True)"
      ],
      "id": "0169d043",
      "execution_count": 29,
      "outputs": []
    },
    {
      "cell_type": "code",
      "metadata": {
        "colab": {
          "base_uri": "https://localhost:8080/"
        },
        "id": "34930bbc",
        "outputId": "71630094-22b4-4d61-f3f0-12b18ec1fbd1"
      },
      "source": [
        "\n",
        "df.isnull().sum()"
      ],
      "id": "34930bbc",
      "execution_count": 30,
      "outputs": [
        {
          "output_type": "execute_result",
          "data": {
            "text/plain": [
              "Music                       3\n",
              "Slow songs or fast songs    2\n",
              "Dance                       4\n",
              "Folk                        5\n",
              "Country                     5\n",
              "                           ..\n",
              "Left - right handed         3\n",
              "Education                   1\n",
              "Only child                  2\n",
              "Village - town              4\n",
              "House - block of flats      4\n",
              "Length: 150, dtype: int64"
            ]
          },
          "metadata": {
            "tags": []
          },
          "execution_count": 30
        }
      ]
    },
    {
      "cell_type": "code",
      "metadata": {
        "colab": {
          "base_uri": "https://localhost:8080/"
        },
        "id": "ae621dec",
        "outputId": "5e32b398-31c9-4fcf-b4e7-23c67e770d7e"
      },
      "source": [
        "print(\"Imputing the NaN values with the mode\")\n",
        "\n",
        "from sklearn.impute import SimpleImputer\n",
        "imp = SimpleImputer(missing_values=np.NAN, strategy='mean', fill_value=None, verbose=0, copy=True)\n",
        "imp.fit(df)\n",
        "df_data = imp.transform(df)\n",
        "df = pd.DataFrame(data=df_data[:,:],\n",
        "                     index=[i for i in range(len(df_data))],\n",
        "                     columns=df.columns.tolist())"
      ],
      "id": "ae621dec",
      "execution_count": 31,
      "outputs": [
        {
          "output_type": "stream",
          "text": [
            "Imputing the NaN values with the mode\n"
          ],
          "name": "stdout"
        }
      ]
    },
    {
      "cell_type": "code",
      "metadata": {
        "colab": {
          "base_uri": "https://localhost:8080/"
        },
        "id": "f7aa6895",
        "outputId": "90bfe8fa-01bb-4ca2-9bb9-c3f0be70108e"
      },
      "source": [
        "from sklearn import model_selection\n",
        "from sklearn.feature_selection import SelectKBest\n",
        "from sklearn.feature_selection import chi2\n",
        "\n",
        "print(\"Selecting the best features\")\n",
        "y_all = [i for i in df.iloc[:, 95]]\n",
        "responses_train = df.drop([\"Empathy\"], axis=1)\n",
        "x_all = responses_train.iloc[:, :].values\n",
        "\n",
        "test = SelectKBest(score_func=chi2, k=100)\n",
        "bestfit = test.fit(x_all, y_all)\n",
        "features = bestfit.transform(x_all)\n",
        "x_all=features"
      ],
      "id": "f7aa6895",
      "execution_count": 32,
      "outputs": [
        {
          "output_type": "stream",
          "text": [
            "Selecting the best features\n"
          ],
          "name": "stdout"
        }
      ]
    },
    {
      "cell_type": "code",
      "metadata": {
        "colab": {
          "base_uri": "https://localhost:8080/"
        },
        "id": "6d3c6aad",
        "outputId": "7053ead6-42b5-4f82-df5f-e4fb1c297b37"
      },
      "source": [
        "cols = test.get_support(indices=True)\n",
        "#print(cols)\n",
        "colnames=df.columns[cols]\n",
        "print(colnames)\n"
      ],
      "id": "6d3c6aad",
      "execution_count": 33,
      "outputs": [
        {
          "output_type": "stream",
          "text": [
            "Index(['Slow songs or fast songs', 'Folk', 'Country', 'Musical', 'Rock',\n",
            "       'Metal or Hardrock', 'Punk', 'Reggae, Ska', 'Rock n roll',\n",
            "       'Alternative', 'Latino', 'Techno, Trance', 'Opera', 'Horror',\n",
            "       'Thriller', 'Romantic', 'Sci-fi', 'Fantasy/Fairy tales', 'Documentary',\n",
            "       'Western', 'Action', 'History', 'Psychology', 'Politics', 'Mathematics',\n",
            "       'Physics', 'PC', 'Economy Management', 'Biology', 'Reading',\n",
            "       'Geography', 'Foreign languages', 'Law', 'Cars', 'Art exhibitions',\n",
            "       'Countryside, outdoors', 'Dancing', 'Musical instruments', 'Writing',\n",
            "       'Passive sport', 'Active sport', 'Gardening', 'Celebrities', 'Shopping',\n",
            "       'Theatre', 'Fun with friends', 'Adrenaline sports', 'Pets', 'Flying',\n",
            "       'Storm', 'Darkness', 'Spiders', 'Snakes', 'Rats', 'Ageing',\n",
            "       'Fear of public speaking', 'Smoking', 'Prioritising workload',\n",
            "       'Writing notes', 'Workaholism', 'Final judgement', 'Keeping promises',\n",
            "       'Loss of interest', 'Fake', 'Criminal damage', 'Elections',\n",
            "       'Self-criticism', 'Judgment calls', 'Hypochondria', 'Empathy',\n",
            "       'Eating to survive', 'Giving', 'Borrowed stuff', 'Loneliness', 'Health',\n",
            "       'Dreams', 'Number of friends', 'Lying', 'Waiting', 'New environment',\n",
            "       'Mood swings', 'Children', 'Assertiveness', 'Knowing the right people',\n",
            "       'Public speaking', 'Unpopularity', 'Life struggles', 'Energy levels',\n",
            "       'Finding lost valuables', 'Questionnaires or polls', 'Internet usage',\n",
            "       'Finances', 'Entertainment spending', 'Spending on gadgets',\n",
            "       'Spending on healthy eating', 'Age', 'Height', 'Weight',\n",
            "       'Number of siblings', 'Left - right handed'],\n",
            "      dtype='object')\n"
          ],
          "name": "stdout"
        }
      ]
    },
    {
      "cell_type": "code",
      "metadata": {
        "colab": {
          "base_uri": "https://localhost:8080/",
          "height": 276
        },
        "id": "af0854fc",
        "outputId": "0e5e8e2b-36b5-471a-b0d7-ddc813bc22ea"
      },
      "source": [
        "def correlation_matrix(df):\n",
        "    from matplotlib import pyplot as plt\n",
        "    from matplotlib import cm as cm\n",
        "\n",
        "    fig = plt.figure()\n",
        "    ax1 = fig.add_subplot(111)\n",
        "    cmap = cm.get_cmap('jet', 30)\n",
        "    cax = ax1.imshow(df.corr(), interpolation=\"nearest\", cmap=cmap)\n",
        "    ax1.grid(True)\n",
        "    plt.title(' Feature Correlation')\n",
        "    labels=['Music','Slow songs or fast songs','Documentary','Musical instrumentst','Whole','Shucked','Viscera','Dancing','Musical instruments',]\n",
        "    ax1.set_xticklabels(labels,fontsize=6)\n",
        "    ax1.set_yticklabels(labels,fontsize=6)\n",
        "    # Add colorbar, make sure to specify tick locations to match desired ticklabels\n",
        "    fig.colorbar(cax, ticks=[.75,.8,.85,.90,.95,1])\n",
        "    plt.show()\n",
        "\n",
        "correlation_matrix(df)"
      ],
      "id": "af0854fc",
      "execution_count": 34,
      "outputs": [
        {
          "output_type": "display_data",
          "data": {
            "image/png": "[encoded data removed]",
            "text/plain": [
              "<Figure size 432x288 with 2 Axes>"
            ]
          },
          "metadata": {
            "tags": [],
            "needs_background": "light"
          }
        }
      ]
    },
    {
      "cell_type": "code",
      "metadata": {
        "colab": {
          "base_uri": "https://localhost:8080/",
          "height": 297
        },
        "id": "4f05f6db",
        "outputId": "c16a0155-51f9-4db9-d091-79d3827a331a"
      },
      "source": [
        "from matplotlib.pyplot import subplots, show\n",
        "list1 = np.squeeze(df['Slow songs or fast songs'].values).tolist()\n",
        "list2 = np.squeeze(df['Empathy'].values).tolist()\n",
        "x = range(1010)\n",
        "\n",
        "fig, ax = subplots()\n",
        "ax.plot(x, list2,color='orange')\n",
        "ax.plot(x,list1,color='red')\n",
        "ax.set_xlabel(\"Index(1- 1010)\")\n",
        "ax.set_ylabel(\"Empathy(Orange) vs Slow songs or fast songs(red)\")\n",
        "show()"
      ],
      "id": "4f05f6db",
      "execution_count": 35,
      "outputs": [
        {
          "output_type": "display_data",
          "data": {
            "image/png": "[encoded data removed]",
            "text/plain": [
              "<Figure size 432x288 with 1 Axes>"
            ]
          },
          "metadata": {
            "tags": [],
            "needs_background": "light"
          }
        }
      ]
    },
    {
      "cell_type": "code",
      "metadata": {
        "colab": {
          "base_uri": "https://localhost:8080/",
          "height": 300
        },
        "id": "63a88ab2",
        "outputId": "d9f5dd41-dc58-48a2-8c7b-c4cd493f540d"
      },
      "source": [
        "from matplotlib.pyplot import subplots, show\n",
        "list1 = np.squeeze(df['Village - town'].values).tolist()\n",
        "list2 = np.squeeze(df['Empathy'].values).tolist()\n",
        "x = range(1010)\n",
        "\n",
        "fig, ax = subplots()\n",
        "ax.plot(x, list2,color='orange')\n",
        "ax.plot(x,list1,color='blue')\n",
        "ax.set_xlabel(\"Index(1- 1010)\")\n",
        "ax.set_ylabel(\"Empathy(Orange) vs Slow songs or fast songs(blue)\")\n",
        "show()"
      ],
      "id": "63a88ab2",
      "execution_count": 36,
      "outputs": [
        {
          "output_type": "display_data",
          "data": {
            "image/png": "[encoded data removed]",
            "text/plain": [
              "<Figure size 432x288 with 1 Axes>"
            ]
          },
          "metadata": {
            "tags": [],
            "needs_background": "light"
          }
        }
      ]
    },
    {
      "cell_type": "code",
      "metadata": {
        "colab": {
          "base_uri": "https://localhost:8080/"
        },
        "id": "514862d2",
        "outputId": "92b7ff86-022c-46b0-ddd7-0e1d5adfaf6c"
      },
      "source": [
        "print(\"Partitioning the dataset into train, dev and test\")\n",
        "y = y_all[:int(len(y_all)*0.8)]\n",
        "y_test = y_all[int(len(y_all)*0.8):]\n",
        "x = x_all[:int(len(x_all)*0.8)]\n",
        "x_test = x_all[int(len(x_all)*0.8):]\n",
        "\n",
        "x_train, x_dev, y_train, y_dev = model_selection.train_test_split(x, y, test_size=20, random_state=50)\n"
      ],
      "id": "514862d2",
      "execution_count": 37,
      "outputs": [
        {
          "output_type": "stream",
          "text": [
            "Partitioning the dataset into train, dev and test\n"
          ],
          "name": "stdout"
        }
      ]
    },
    {
      "cell_type": "code",
      "metadata": {
        "colab": {
          "base_uri": "https://localhost:8080/"
        },
        "id": "a2d93432",
        "outputId": "41f7453c-61ad-40d0-d6a6-564c8c5009da"
      },
      "source": [
        "from sklearn.dummy import DummyClassifier\n",
        "from sklearn.svm import SVC\n",
        "from sklearn.neighbors import KNeighborsClassifier\n",
        "from sklearn.metrics import accuracy_score\n",
        "from sklearn.model_selection import GridSearchCV\n",
        "import warnings\n",
        "dummy=DummyClassifier(strategy='most_frequent')\n",
        "models=[]\n",
        "results=[]\n",
        "names=[]\n",
        "models.append(('Dummy Classifier',DummyClassifier(strategy='most_frequent')))\n",
        "models.append(('SVC',SVC()))\n",
        "models.append(('KNN',KNeighborsClassifier()))\n",
        "models.append(('Logistic Regression',LogisticRegression()))\n",
        "models.append(('Random Forest',RandomForestClassifier(random_state=None)))\n",
        "print(\"Evaluating classifiers on the training data using 10 fold cross validation\")\n",
        "for name,model in models:\n",
        "    \n",
        "            #print(\"Evaluating classifiers on the training data using 10 fold cross validation\")\n",
        "            kfold = model_selection.KFold(n_splits=10, random_state=None)\n",
        "            pred = model_selection.cross_val_score(model, x_train, y_train, cv=kfold, scoring='accuracy')\n",
        "            results.append(pred)\n",
        "            names.append(name)\n",
        "            print(\"Accuracy for\", name,\"is\")\n",
        "            print( pred.mean()*100, \"%\")\n"
      ],
      "id": "a2d93432",
      "execution_count": 38,
      "outputs": [
        {
          "output_type": "stream",
          "text": [
            "Evaluating classifiers on the training data using 10 fold cross validation\n",
            "Accuracy for Dummy Classifier is\n",
            "36.28854268094774 %\n",
            "Accuracy for SVC is\n",
            "36.28854268094774 %\n",
            "Accuracy for KNN is\n",
            "35.772476468678995 %\n"
          ],
          "name": "stdout"
        },
        {
          "output_type": "stream",
          "text": [
            "/usr/local/lib/python3.7/dist-packages/sklearn/linear_model/_logistic.py:940: ConvergenceWarning: lbfgs failed to converge (status=1):\n",
            "STOP: TOTAL NO. of ITERATIONS REACHED LIMIT.\n",
            "\n",
            "Increase the number of iterations (max_iter) or scale the data as shown in:\n",
            "    https://scikit-learn.org/stable/modules/preprocessing.html\n",
            "Please also refer to the documentation for alternative solver options:\n",
            "    https://scikit-learn.org/stable/modules/linear_model.html#logistic-regression\n",
            "  extra_warning_msg=_LOGISTIC_SOLVER_CONVERGENCE_MSG)\n",
            "/usr/local/lib/python3.7/dist-packages/sklearn/linear_model/_logistic.py:940: ConvergenceWarning: lbfgs failed to converge (status=1):\n",
            "STOP: TOTAL NO. of ITERATIONS REACHED LIMIT.\n",
            "\n",
            "Increase the number of iterations (max_iter) or scale the data as shown in:\n",
            "    https://scikit-learn.org/stable/modules/preprocessing.html\n",
            "Please also refer to the documentation for alternative solver options:\n",
            "    https://scikit-learn.org/stable/modules/linear_model.html#logistic-regression\n",
            "  extra_warning_msg=_LOGISTIC_SOLVER_CONVERGENCE_MSG)\n",
            "/usr/local/lib/python3.7/dist-packages/sklearn/linear_model/_logistic.py:940: ConvergenceWarning: lbfgs failed to converge (status=1):\n",
            "STOP: TOTAL NO. of ITERATIONS REACHED LIMIT.\n",
            "\n",
            "Increase the number of iterations (max_iter) or scale the data as shown in:\n",
            "    https://scikit-learn.org/stable/modules/preprocessing.html\n",
            "Please also refer to the documentation for alternative solver options:\n",
            "    https://scikit-learn.org/stable/modules/linear_model.html#logistic-regression\n",
            "  extra_warning_msg=_LOGISTIC_SOLVER_CONVERGENCE_MSG)\n",
            "/usr/local/lib/python3.7/dist-packages/sklearn/linear_model/_logistic.py:940: ConvergenceWarning: lbfgs failed to converge (status=1):\n",
            "STOP: TOTAL NO. of ITERATIONS REACHED LIMIT.\n",
            "\n",
            "Increase the number of iterations (max_iter) or scale the data as shown in:\n",
            "    https://scikit-learn.org/stable/modules/preprocessing.html\n",
            "Please also refer to the documentation for alternative solver options:\n",
            "    https://scikit-learn.org/stable/modules/linear_model.html#logistic-regression\n",
            "  extra_warning_msg=_LOGISTIC_SOLVER_CONVERGENCE_MSG)\n",
            "/usr/local/lib/python3.7/dist-packages/sklearn/linear_model/_logistic.py:940: ConvergenceWarning: lbfgs failed to converge (status=1):\n",
            "STOP: TOTAL NO. of ITERATIONS REACHED LIMIT.\n",
            "\n",
            "Increase the number of iterations (max_iter) or scale the data as shown in:\n",
            "    https://scikit-learn.org/stable/modules/preprocessing.html\n",
            "Please also refer to the documentation for alternative solver options:\n",
            "    https://scikit-learn.org/stable/modules/linear_model.html#logistic-regression\n",
            "  extra_warning_msg=_LOGISTIC_SOLVER_CONVERGENCE_MSG)\n",
            "/usr/local/lib/python3.7/dist-packages/sklearn/linear_model/_logistic.py:940: ConvergenceWarning: lbfgs failed to converge (status=1):\n",
            "STOP: TOTAL NO. of ITERATIONS REACHED LIMIT.\n",
            "\n",
            "Increase the number of iterations (max_iter) or scale the data as shown in:\n",
            "    https://scikit-learn.org/stable/modules/preprocessing.html\n",
            "Please also refer to the documentation for alternative solver options:\n",
            "    https://scikit-learn.org/stable/modules/linear_model.html#logistic-regression\n",
            "  extra_warning_msg=_LOGISTIC_SOLVER_CONVERGENCE_MSG)\n",
            "/usr/local/lib/python3.7/dist-packages/sklearn/linear_model/_logistic.py:940: ConvergenceWarning: lbfgs failed to converge (status=1):\n",
            "STOP: TOTAL NO. of ITERATIONS REACHED LIMIT.\n",
            "\n",
            "Increase the number of iterations (max_iter) or scale the data as shown in:\n",
            "    https://scikit-learn.org/stable/modules/preprocessing.html\n",
            "Please also refer to the documentation for alternative solver options:\n",
            "    https://scikit-learn.org/stable/modules/linear_model.html#logistic-regression\n",
            "  extra_warning_msg=_LOGISTIC_SOLVER_CONVERGENCE_MSG)\n",
            "/usr/local/lib/python3.7/dist-packages/sklearn/linear_model/_logistic.py:940: ConvergenceWarning: lbfgs failed to converge (status=1):\n",
            "STOP: TOTAL NO. of ITERATIONS REACHED LIMIT.\n",
            "\n",
            "Increase the number of iterations (max_iter) or scale the data as shown in:\n",
            "    https://scikit-learn.org/stable/modules/preprocessing.html\n",
            "Please also refer to the documentation for alternative solver options:\n",
            "    https://scikit-learn.org/stable/modules/linear_model.html#logistic-regression\n",
            "  extra_warning_msg=_LOGISTIC_SOLVER_CONVERGENCE_MSG)\n",
            "/usr/local/lib/python3.7/dist-packages/sklearn/linear_model/_logistic.py:940: ConvergenceWarning: lbfgs failed to converge (status=1):\n",
            "STOP: TOTAL NO. of ITERATIONS REACHED LIMIT.\n",
            "\n",
            "Increase the number of iterations (max_iter) or scale the data as shown in:\n",
            "    https://scikit-learn.org/stable/modules/preprocessing.html\n",
            "Please also refer to the documentation for alternative solver options:\n",
            "    https://scikit-learn.org/stable/modules/linear_model.html#logistic-regression\n",
            "  extra_warning_msg=_LOGISTIC_SOLVER_CONVERGENCE_MSG)\n",
            "/usr/local/lib/python3.7/dist-packages/sklearn/linear_model/_logistic.py:940: ConvergenceWarning: lbfgs failed to converge (status=1):\n",
            "STOP: TOTAL NO. of ITERATIONS REACHED LIMIT.\n",
            "\n",
            "Increase the number of iterations (max_iter) or scale the data as shown in:\n",
            "    https://scikit-learn.org/stable/modules/preprocessing.html\n",
            "Please also refer to the documentation for alternative solver options:\n",
            "    https://scikit-learn.org/stable/modules/linear_model.html#logistic-regression\n",
            "  extra_warning_msg=_LOGISTIC_SOLVER_CONVERGENCE_MSG)\n"
          ],
          "name": "stderr"
        },
        {
          "output_type": "stream",
          "text": [
            "Accuracy for Logistic Regression is\n",
            "59.52125933138592 %\n",
            "Accuracy for Random Forest is\n",
            "84.12690684842585 %\n"
          ],
          "name": "stdout"
        }
      ]
    },
    {
      "cell_type": "code",
      "metadata": {
        "colab": {
          "base_uri": "https://localhost:8080/",
          "height": 294
        },
        "id": "cb357654",
        "outputId": "676b0a98-cc05-4dbd-f794-f12716ed23b0"
      },
      "source": [
        "fig = plt.figure()\n",
        "fig.suptitle('Algorithm Comparison')\n",
        "ax = fig.add_subplot(111)\n",
        "plt.boxplot(results)\n",
        "ax.set_xticklabels(names)\n",
        "plt.show()"
      ],
      "id": "cb357654",
      "execution_count": 39,
      "outputs": [
        {
          "output_type": "display_data",
          "data": {
            "image/png": "[encoded data removed]",
            "text/plain": [
              "<Figure size 432x288 with 1 Axes>"
            ]
          },
          "metadata": {
            "tags": [],
            "needs_background": "light"
          }
        }
      ]
    },
    {
      "cell_type": "code",
      "metadata": {
        "colab": {
          "base_uri": "https://localhost:8080/"
        },
        "id": "ecfae4ce",
        "outputId": "83da331a-e59e-4673-9389-b78bc4918bbe"
      },
      "source": [
        "print(\"fsfsfs_\")"
      ],
      "id": "ecfae4ce",
      "execution_count": 40,
      "outputs": [
        {
          "output_type": "stream",
          "text": [
            "fsfsfs_\n"
          ],
          "name": "stdout"
        }
      ]
    },
    {
      "cell_type": "code",
      "metadata": {
        "colab": {
          "base_uri": "https://localhost:8080/"
        },
        "id": "9b6c2b6d",
        "outputId": "01e34b5e-2b68-419c-b001-be7df9ced25b"
      },
      "source": [
        "\n",
        "rfc=RandomForestClassifier(random_state=0)\n",
        "param_grid = { \n",
        "    'n_estimators': [200, 500],\n",
        "    'max_features': ['auto', 'sqrt', 'log2'],\n",
        "    'max_depth' : [4,5,6,7,8],\n",
        "    'criterion' :['gini', 'entropy']\n",
        "}\n",
        "\n",
        "\n",
        "CV_rfc = GridSearchCV(estimator=rfc, param_grid=param_grid, cv= 5)\n",
        "model=CV_rfc.fit(x_train, y_train)\n",
        "\n",
        "\n",
        "pred_dev = model.predict(x_dev)\n",
        "print(\"Accuracy on the development data: \",accuracy_score(y_dev, pred_dev)*100, \"%\")"
      ],
      "id": "9b6c2b6d",
      "execution_count": 52,
      "outputs": [
        {
          "output_type": "stream",
          "text": [
            "Accuracy on the development data:  85.0 %\n"
          ],
          "name": "stdout"
        }
      ]
    },
    {
      "cell_type": "code",
      "metadata": {
        "colab": {
          "base_uri": "https://localhost:8080/"
        },
        "id": "adf54079",
        "outputId": "e02a3206-5405-4560-f707-fd868f3836e4"
      },
      "source": [
        "params = model.best_estimator_.get_params()\n",
        "print(\"best parameters found through GridSearch for Random Forest: \",params)"
      ],
      "id": "adf54079",
      "execution_count": 53,
      "outputs": [
        {
          "output_type": "stream",
          "text": [
            "best parameters found through GridSearch for Random Forest:  {'bootstrap': True, 'ccp_alpha': 0.0, 'class_weight': None, 'criterion': 'entropy', 'max_depth': 8, 'max_features': 'auto', 'max_leaf_nodes': None, 'max_samples': None, 'min_impurity_decrease': 0.0, 'min_impurity_split': None, 'min_samples_leaf': 1, 'min_samples_split': 2, 'min_weight_fraction_leaf': 0.0, 'n_estimators': 500, 'n_jobs': None, 'oob_score': False, 'random_state': 0, 'verbose': 0, 'warm_start': False}\n"
          ],
          "name": "stdout"
        }
      ]
    },
    {
      "cell_type": "code",
      "metadata": {
        "colab": {
          "base_uri": "https://localhost:8080/"
        },
        "id": "d56085c5",
        "outputId": "86b2fccf-bb02-481b-91ef-6f586542156b"
      },
      "source": [
        "model = RandomForestClassifier(bootstrap=params['bootstrap'], criterion=params['criterion'], max_depth=params['max_depth'], n_estimators=params['n_estimators'])\n",
        "model.fit(x_train, y_train)"
      ],
      "id": "d56085c5",
      "execution_count": 54,
      "outputs": [
        {
          "output_type": "execute_result",
          "data": {
            "text/plain": [
              "RandomForestClassifier(bootstrap=True, ccp_alpha=0.0, class_weight=None,\n",
              "                       criterion='entropy', max_depth=8, max_features='auto',\n",
              "                       max_leaf_nodes=None, max_samples=None,\n",
              "                       min_impurity_decrease=0.0, min_impurity_split=None,\n",
              "                       min_samples_leaf=1, min_samples_split=2,\n",
              "                       min_weight_fraction_leaf=0.0, n_estimators=500,\n",
              "                       n_jobs=None, oob_score=False, random_state=None,\n",
              "                       verbose=0, warm_start=False)"
            ]
          },
          "metadata": {
            "tags": []
          },
          "execution_count": 54
        }
      ]
    },
    {
      "cell_type": "code",
      "metadata": {
        "colab": {
          "base_uri": "https://localhost:8080/"
        },
        "id": "b38fb5e9",
        "outputId": "b8e8683e-e3b8-4bb1-b5c2-f0d2593f0773"
      },
      "source": [
        "from sklearn.metrics import accuracy_score\n",
        "from sklearn.model_selection import GridSearchCV\n",
        "import warnings\n",
        "\n",
        "warnings.filterwarnings(\"ignore\", category=UserWarning)\n",
        "\n",
        "print(\"Checking accuracy of Logistic Regression on Development Set\")\n",
        "print(\"Tuning hyperparameters on the validation data\")\n",
        "\n",
        "logistic = LogisticRegression()\n",
        "C = np.logspace(0, 4, 5)\n",
        "multiclass=['ovr','multinomial']\n",
        "solver=['newton-cg','lbfgs','saga']\n",
        "hyperparameters = dict(C=C, multi_class=multiclass, solver=solver)\n",
        "GS = GridSearchCV(logistic, hyperparameters, cv=10, verbose=0)\n",
        "modellr = GS.fit(x_train, y_train)\n",
        "#pred_devlr = modellr.predict(x_dev)\n",
        "print(\"Accuracy on the development data: \",accuracy_score(y_dev, pred_devlr)*100, \"%\")"
      ],
      "id": "b38fb5e9",
      "execution_count": 55,
      "outputs": [
        {
          "output_type": "stream",
          "text": [
            "Checking accuracy of Logistic Regression on Development Set\n",
            "Tuning hyperparameters on the validation data\n",
            "Accuracy on the development data:  95.0 %\n"
          ],
          "name": "stdout"
        }
      ]
    },
    {
      "cell_type": "code",
      "metadata": {
        "colab": {
          "base_uri": "https://localhost:8080/"
        },
        "id": "ece1eb3d",
        "outputId": "4448190f-c91c-45b8-e7ff-31b4c33ea42e"
      },
      "source": [
        "paramslr = modellr.best_estimator_.get_params()\n",
        "print(\"best parameters found through GridSearch for Logistic Regression: \",paramslr)"
      ],
      "id": "ece1eb3d",
      "execution_count": 56,
      "outputs": [
        {
          "output_type": "stream",
          "text": [
            "best parameters found through GridSearch for Logistic Regression:  {'C': 1000.0, 'class_weight': None, 'dual': False, 'fit_intercept': True, 'intercept_scaling': 1, 'l1_ratio': None, 'max_iter': 100, 'multi_class': 'multinomial', 'n_jobs': None, 'penalty': 'l2', 'random_state': None, 'solver': 'newton-cg', 'tol': 0.0001, 'verbose': 0, 'warm_start': False}\n"
          ],
          "name": "stdout"
        }
      ]
    },
    {
      "cell_type": "code",
      "metadata": {
        "colab": {
          "base_uri": "https://localhost:8080/"
        },
        "id": "945d8f8d",
        "outputId": "d9c0b497-523b-4620-fd69-c27a51daaf74"
      },
      "source": [
        "\n",
        "pred_devlr=modellr.predict(x_dev)\n",
        "print(\"Accuracy on the development data: \",accuracy_score(y_dev, pred_devlr)*100, \"%\")"
      ],
      "id": "945d8f8d",
      "execution_count": 44,
      "outputs": [
        {
          "output_type": "stream",
          "text": [
            "Accuracy on the development data:  95.0 %\n"
          ],
          "name": "stdout"
        }
      ]
    },
    {
      "cell_type": "code",
      "metadata": {
        "colab": {
          "base_uri": "https://localhost:8080/"
        },
        "id": "54d90d36",
        "outputId": "63b3cb89-90ca-4931-ec50-39804f2aec40"
      },
      "source": [
        "\n",
        "knn=KNeighborsClassifier()\n",
        "k_range = list(range(1, 31))\n",
        "print(k_range)\n",
        "\n",
        "param_grid = dict(n_neighbors=k_range)\n",
        "print(param_grid)\n",
        "\n",
        "grid = GridSearchCV(knn, param_grid, cv=10, scoring='accuracy')\n",
        "grid.fit(x_train,y_train)\n",
        "predknn=grid.predict(x_dev)\n",
        "print(\"Accuracy on the development data: \",accuracy_score(y_dev, predknn)*100, \"%\")"
      ],
      "id": "54d90d36",
      "execution_count": 45,
      "outputs": [
        {
          "output_type": "stream",
          "text": [
            "[1, 2, 3, 4, 5, 6, 7, 8, 9, 10, 11, 12, 13, 14, 15, 16, 17, 18, 19, 20, 21, 22, 23, 24, 25, 26, 27, 28, 29, 30]\n",
            "{'n_neighbors': [1, 2, 3, 4, 5, 6, 7, 8, 9, 10, 11, 12, 13, 14, 15, 16, 17, 18, 19, 20, 21, 22, 23, 24, 25, 26, 27, 28, 29, 30]}\n",
            "Accuracy on the development data:  30.0 %\n"
          ],
          "name": "stdout"
        }
      ]
    },
    {
      "cell_type": "code",
      "metadata": {
        "id": "ElZZW46N_ZXr"
      },
      "source": [
        ""
      ],
      "id": "ElZZW46N_ZXr",
      "execution_count": 45,
      "outputs": []
    },
    {
      "cell_type": "code",
      "metadata": {
        "colab": {
          "base_uri": "https://localhost:8080/"
        },
        "id": "d450ad68",
        "outputId": "88ad2b71-0081-428b-e410-95132940cfb1"
      },
      "source": [
        "paramsknn = grid.best_estimator_.get_params()\n",
        "print(\"best parameters found through GridSearch for KNN: \",paramsknn)"
      ],
      "id": "d450ad68",
      "execution_count": 46,
      "outputs": [
        {
          "output_type": "stream",
          "text": [
            "best parameters found through GridSearch for KNN:  {'algorithm': 'auto', 'leaf_size': 30, 'metric': 'minkowski', 'metric_params': None, 'n_jobs': None, 'n_neighbors': 20, 'p': 2, 'weights': 'uniform'}\n"
          ],
          "name": "stdout"
        }
      ]
    },
    {
      "cell_type": "code",
      "metadata": {
        "colab": {
          "base_uri": "https://localhost:8080/"
        },
        "id": "4e373867",
        "outputId": "acac53ba-cc58-44b8-bb17-e396dd61b4fe"
      },
      "source": [
        "print(\"Making predictions on the test data\")\n",
        "grid =KNeighborsClassifier(algorithm=paramsknn['algorithm'], metric=paramsknn['metric'], weights=paramsknn['weights'])\n",
        "grid.fit(x_train, y_train)\n",
        "predknn=grid.predict(x_dev)\n",
        "print(\"Accuracy on the development data: \",accuracy_score(y_dev, predknn)*100, \"%\")"
      ],
      "id": "4e373867",
      "execution_count": 47,
      "outputs": [
        {
          "output_type": "stream",
          "text": [
            "Making predictions on the test data\n",
            "Accuracy on the development data:  30.0 %\n"
          ],
          "name": "stdout"
        }
      ]
    },
    {
      "cell_type": "code",
      "metadata": {
        "id": "b97079df"
      },
      "source": [
        "Cs = [0.001, 0.01, 0.1, 1, 10]\n",
        "gammas = [0.001, 0.01, 0.1, 1]\n",
        "param_grid = {'C': Cs, 'gamma' : gammas}\n",
        "grid_search = GridSearchCV(SVC(kernel='rbf'), param_grid)\n",
        "\n",
        "#grid_search.best_params_"
      ],
      "id": "b97079df",
      "execution_count": 57,
      "outputs": []
    },
    {
      "cell_type": "code",
      "metadata": {
        "colab": {
          "base_uri": "https://localhost:8080/"
        },
        "id": "37498ce8",
        "outputId": "2e26ed39-5b32-4a39-9fc7-2d0224cf72ba"
      },
      "source": [
        "grid_search.fit(x_train, y_train)"
      ],
      "id": "37498ce8",
      "execution_count": 58,
      "outputs": [
        {
          "output_type": "execute_result",
          "data": {
            "text/plain": [
              "GridSearchCV(cv=None, error_score=nan,\n",
              "             estimator=SVC(C=1.0, break_ties=False, cache_size=200,\n",
              "                           class_weight=None, coef0=0.0,\n",
              "                           decision_function_shape='ovr', degree=3,\n",
              "                           gamma='scale', kernel='rbf', max_iter=-1,\n",
              "                           probability=False, random_state=None, shrinking=True,\n",
              "                           tol=0.001, verbose=False),\n",
              "             iid='deprecated', n_jobs=None,\n",
              "             param_grid={'C': [0.001, 0.01, 0.1, 1, 10],\n",
              "                         'gamma': [0.001, 0.01, 0.1, 1]},\n",
              "             pre_dispatch='2*n_jobs', refit=True, return_train_score=False,\n",
              "             scoring=None, verbose=0)"
            ]
          },
          "metadata": {
            "tags": []
          },
          "execution_count": 58
        }
      ]
    },
    {
      "cell_type": "code",
      "metadata": {
        "colab": {
          "base_uri": "https://localhost:8080/"
        },
        "id": "dbfadf21",
        "outputId": "ca4f4e44-b01a-4251-dfd9-bf115eb8d5f5"
      },
      "source": [
        "paramsvm = grid_search.best_estimator_.get_params()\n",
        "print(\"best parameters found through GridSearch for SVM: \",paramsvm)"
      ],
      "id": "dbfadf21",
      "execution_count": 59,
      "outputs": [
        {
          "output_type": "stream",
          "text": [
            "best parameters found through GridSearch for SVM:  {'C': 10, 'break_ties': False, 'cache_size': 200, 'class_weight': None, 'coef0': 0.0, 'decision_function_shape': 'ovr', 'degree': 3, 'gamma': 0.001, 'kernel': 'rbf', 'max_iter': -1, 'probability': False, 'random_state': None, 'shrinking': True, 'tol': 0.001, 'verbose': False}\n"
          ],
          "name": "stdout"
        }
      ]
    },
    {
      "cell_type": "code",
      "metadata": {
        "colab": {
          "base_uri": "https://localhost:8080/"
        },
        "id": "7a67779b",
        "outputId": "58e6ebcc-d19c-4ee5-a9c0-62d88509331b"
      },
      "source": [
        "grid_search = SVC(C=paramsvm['C'], cache_size=paramsvm['cache_size'], kernel=paramsvm['kernel'], gamma=paramsvm['gamma'])\n",
        "grid_search.fit(x_train, y_train)\n",
        "predsvm=grid_search.predict(x_dev)\n",
        "print(\"Accuracy on the development data: \",accuracy_score(y_dev, predsvm)*100, \"%\")"
      ],
      "id": "7a67779b",
      "execution_count": 60,
      "outputs": [
        {
          "output_type": "stream",
          "text": [
            "Accuracy on the development data:  90.0 %\n"
          ],
          "name": "stdout"
        }
      ]
    },
    {
      "cell_type": "code",
      "metadata": {
        "id": "7QI1nG2_FlQr"
      },
      "source": [
        "def cm_analysis(y_true, y_pred, labels, ymap=None, figsize=(10,10)):\n",
        "    \"\"\"\n",
        "    Generate matrix plot of confusion matrix with pretty annotations.\n",
        "    The plot image is saved to disk.\n",
        "    args: \n",
        "      y_true:    true label of the data, with shape (nsamples,)\n",
        "      y_pred:    prediction of the data, with shape (nsamples,)\n",
        "      filename:  filename of figure file to save\n",
        "      labels:    string array, name the order of class labels in the confusion matrix.\n",
        "                 use `clf.classes_` if using scikit-learn models.\n",
        "                 with shape (nclass,).\n",
        "      ymap:      dict: any -> string, length == nclass.\n",
        "                 if not None, map the labels & ys to more understandable strings.\n",
        "                 Caution: original y_true, y_pred and labels must align.\n",
        "      figsize:   the size of the figure plotted.\n",
        "    \"\"\"\n",
        "    if ymap is not None:\n",
        "        y_pred = [ymap[yi] for yi in y_pred]\n",
        "        y_true = [ymap[yi] for yi in y_true]\n",
        "        labels = [ymap[yi] for yi in labels]\n",
        "    cm = confusion_matrix(y_true, y_pred, labels=labels)\n",
        "    cm_sum = np.sum(cm, axis=1, keepdims=True)\n",
        "    cm_perc = cm / cm_sum.astype(float) * 100\n",
        "    annot = np.empty_like(cm).astype(str)\n",
        "    nrows, ncols = cm.shape\n",
        "    for i in range(nrows):\n",
        "        for j in range(ncols):\n",
        "            c = cm[i, j]\n",
        "            p = cm_perc[i, j]\n",
        "            if i == j:\n",
        "                s = cm_sum[i]\n",
        "                annot[i, j] = '%.1f%%\\n%d/%d' % (p, c, s)\n",
        "            elif c == 0:\n",
        "                annot[i, j] = ''\n",
        "            else:\n",
        "                annot[i, j] = '%.1f%%\\n%d' % (p, c)\n",
        "    cm = pd.DataFrame(cm, index=labels, columns=labels)\n",
        "    cm.index.name = 'Actual'\n",
        "    cm.columns.name = 'Predicted'\n",
        "    fig, ax = plt.subplots(figsize=figsize)\n",
        "    sns.heatmap(cm, annot=annot, fmt='', ax=ax)\n",
        "    #plt.savefig(filename)"
      ],
      "id": "7QI1nG2_FlQr",
      "execution_count": 61,
      "outputs": []
    },
    {
      "cell_type": "code",
      "metadata": {
        "colab": {
          "base_uri": "https://localhost:8080/",
          "height": 1000
        },
        "id": "FkLxUU-9Fs1K",
        "outputId": "13788f31-0c1a-4de1-b20a-373545c22546"
      },
      "source": [
        "from sklearn.metrics import accuracy_score\n",
        "from sklearn.metrics import confusion_matrix\n",
        "import seaborn as sns\n",
        "modeldummy=dummy.fit(x_train,y_train)\n",
        "pred_dummy = modeldummy.predict(x_test)\n",
        "pred_list=list(pred_dummy)\n",
        "print(\"Accuracy on the test data for Dummy Classifier: \",accuracy_score(y_test, pred_dummy)*100, \"%\")\n",
        "#cm = confusion_matrix(y_test, pred_dummy)\n",
        "#print(cm)\n",
        "#fig = plt.figure()\n",
        "cm_analysis(y_test,pred_dummy,dummy.classes_,None,figsize=(5,5))\n",
        "pred_test = model.predict(x_test)\n",
        "print(\"Accuracy on the test data for Random Forest: \",accuracy_score(y_test, pred_test)*100, \"%\")\n",
        "cm_analysis(y_test,pred_test,model.classes_,None,figsize=(5,5))\n",
        "pred_testlr = modellr.predict(x_test)\n",
        "print(\"Accuracy on the test data for Logistic Regression: \",accuracy_score(y_test, pred_testlr)*100, \"%\")\n",
        "cm_analysis(y_test,pred_testlr,modellr.classes_,None,figsize=(5,5))\n",
        "pred_testknn = grid.predict(x_test)\n",
        "print(\"Accuracy on the test data for KNN: \",accuracy_score(y_test, pred_testknn)*100, \"%\")\n",
        "cm_analysis(y_test,pred_testknn,grid.classes_,None,figsize=(5,5))\n",
        "pred_testsvm = grid_search.predict(x_test)\n",
        "print(\"Accuracy on the test data for SVM: \",accuracy_score(y_test, pred_testsvm)*100, \"%\")\n",
        "cm_analysis(y_test,pred_testsvm,grid_search.classes_,None,figsize=(5,5))"
      ],
      "id": "FkLxUU-9Fs1K",
      "execution_count": 62,
      "outputs": [
        {
          "output_type": "stream",
          "text": [
            "Accuracy on the test data for Dummy Classifier:  34.65346534653465 %\n",
            "Accuracy on the test data for Random Forest:  81.68316831683168 %\n",
            "Accuracy on the test data for Logistic Regression:  88.61386138613861 %\n",
            "Accuracy on the test data for KNN:  35.148514851485146 %\n",
            "Accuracy on the test data for SVM:  75.24752475247524 %\n"
          ],
          "name": "stdout"
        },
        {
          "output_type": "display_data",
          "data": {
            "image/png": "[encoded data removed]",
            "text/plain": [
              "<Figure size 360x360 with 2 Axes>"
            ]
          },
          "metadata": {
            "tags": [],
            "needs_background": "light"
          }
        },
        {
          "output_type": "display_data",
          "data": {
            "image/png": "[encoded data removed]",
            "text/plain": [
              "<Figure size 360x360 with 2 Axes>"
            ]
          },
          "metadata": {
            "tags": [],
            "needs_background": "light"
          }
        },
        {
          "output_type": "display_data",
          "data": {
            "image/png": "[encoded data removed]",
            "text/plain": [
              "<Figure size 360x360 with 2 Axes>"
            ]
          },
          "metadata": {
            "tags": [],
            "needs_background": "light"
          }
        },
        {
          "output_type": "display_data",
          "data": {
            "image/png": "[encoded data removed]",
            "text/plain": [
              "<Figure size 360x360 with 2 Axes>"
            ]
          },
          "metadata": {
            "tags": [],
            "needs_background": "light"
          }
        },
        {
          "output_type": "display_data",
          "data": {
            "image/png": "[encoded data removed]",
            "text/plain": [
              "<Figure size 360x360 with 2 Axes>"
            ]
          },
          "metadata": {
            "tags": [],
            "needs_background": "light"
          }
        }
      ]
    },
    {
      "cell_type": "code",
      "metadata": {
        "id": "Lm0EGA3YFyFL"
      },
      "source": [
        ""
      ],
      "id": "Lm0EGA3YFyFL",
      "execution_count": null,
      "outputs": []
    },
    {
      "cell_type": "code",
      "metadata": {
        "id": "213c5dff"
      },
      "source": [
        ""
      ],
      "id": "213c5dff",
      "execution_count": null,
      "outputs": []
    },
    {
      "cell_type": "code",
      "metadata": {
        "id": "80b9eba8"
      },
      "source": [
        "\n"
      ],
      "id": "80b9eba8",
      "execution_count": null,
      "outputs": []
    },
    {
      "cell_type": "code",
      "metadata": {
        "id": "fdf354dc"
      },
      "source": [
        ""
      ],
      "id": "fdf354dc",
      "execution_count": null,
      "outputs": []
    },
    {
      "cell_type": "code",
      "metadata": {
        "id": "550986fd"
      },
      "source": [
        ""
      ],
      "id": "550986fd",
      "execution_count": null,
      "outputs": []
    },
    {
      "cell_type": "code",
      "metadata": {
        "id": "6e321d75"
      },
      "source": [
        ""
      ],
      "id": "6e321d75",
      "execution_count": null,
      "outputs": []
    },
    {
      "cell_type": "code",
      "metadata": {
        "id": "18463104"
      },
      "source": [
        ""
      ],
      "id": "18463104",
      "execution_count": null,
      "outputs": []
    }
  ]
}